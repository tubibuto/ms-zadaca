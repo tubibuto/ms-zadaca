{
 "cells": [
  {
   "cell_type": "markdown",
   "metadata": {},
   "source": [
    "# Neuronske mreže "
   ]
  },
  {
   "cell_type": "markdown",
   "metadata": {},
   "source": [
    "## Motivacija"
   ]
  },
  {
   "cell_type": "markdown",
   "metadata": {},
   "source": [
    "Danas u računarstvu sve više slušamo o području strojnog učenja.\n",
    "Ono nam pomaže u raznim područjima razvoja aplikacija te je gotovo nemoguće zamisliti personalizirani\n",
    "servis koji ne bi ispod sebe imao neke od algoritama strojnog učenja.\n",
    "Kroz ovu bilježnicu ćemo obraditi jedan od najzanimljivijih modela strojnog učenja za kojeg se tvrdi da \n",
    "je korak prema otkrivanju prave umjetne inteligencije - neuralne mreže."
   ]
  },
  {
   "cell_type": "markdown",
   "metadata": {},
   "source": [
    "Za kratki uvod ćemo početi s linearnom regresijom i logističkom regresijom na vrlo jednostavnim primjerima te ćemo preći na njihovo moćnije poopćenje s neuralnim mrežama."
   ]
  },
  {
   "cell_type": "code",
   "execution_count": 1,
   "metadata": {},
   "outputs": [],
   "source": [
    "import pandas as pd\n",
    "trening = pd.read_csv('linreg_trening.txt', sep = \" \")"
   ]
  },
  {
   "cell_type": "code",
   "execution_count": 2,
   "metadata": {},
   "outputs": [
    {
     "data": {
      "text/plain": [
       "Index(['x', 'y'], dtype='object')"
      ]
     },
     "execution_count": 2,
     "metadata": {},
     "output_type": "execute_result"
    }
   ],
   "source": [
    "trening.columns"
   ]
  },
  {
   "cell_type": "markdown",
   "metadata": {},
   "source": [
    "Vizualizirajmo si dobivene trening podatke iz tekstualne datoteke"
   ]
  },
  {
   "cell_type": "code",
   "execution_count": 3,
   "metadata": {},
   "outputs": [
    {
     "data": {
      "text/plain": [
       "[<matplotlib.lines.Line2D at 0x2392edce940>]"
      ]
     },
     "execution_count": 3,
     "metadata": {},
     "output_type": "execute_result"
    },
    {
     "data": {
      "image/png": "[encoded data removed]",
      "text/plain": [
       "<matplotlib.figure.Figure at 0x2392e669b38>"
      ]
     },
     "metadata": {},
     "output_type": "display_data"
    }
   ],
   "source": [
    "import matplotlib.pyplot as plt\n",
    "%matplotlib inline\n",
    "plt.plot(trening['x'], trening['y'], 'ro')"
   ]
  },
  {
   "cell_type": "markdown",
   "metadata": {},
   "source": [
    "Želimo na temelju dobivenih podataka provući neku funkciju koja bi dobro aproksimirala naše trening primjere te nove primjere koje možemo dobiti. Problem rješavamo primjenom linearne regresije."
   ]
  },
  {
   "cell_type": "markdown",
   "metadata": {},
   "source": [
    "Općenito, imamo m trening primjera te n značajki (feature) aproksimacijske funkcije kojima su pridruženi odgovarajući realni koeficijenti. Primjetimo da indeksiranje primjera ide u eksponent da ne bi bilo dvosmislenosti između primjera i značajki. To je konvencija koje ćemo se držati u nastavku."
   ]
  },
  {
   "cell_type": "code",
   "execution_count": 4,
   "metadata": {},
   "outputs": [
    {
     "data": {
      "text/latex": [
       "$$(x^{(1)}, y^{(1)}), (x^{(2)}, y^{(2)}), ..., (x^{(n)}, y^{(n)})$$"
      ],
      "text/plain": [
       "<IPython.core.display.Math object>"
      ]
     },
     "metadata": {},
     "output_type": "display_data"
    },
    {
     "data": {
      "text/latex": [
       "$$h(x) = \\Theta_{1}x_{1}+\\Theta_{2}x_{2}+...+\\Theta_{n}x_{n}$$"
      ],
      "text/plain": [
       "<IPython.core.display.Math object>"
      ]
     },
     "metadata": {},
     "output_type": "display_data"
    }
   ],
   "source": [
    "from IPython.display import display, Math, Latex\n",
    "display(Math(r'(x^{(1)}, y^{(1)}), (x^{(2)}, y^{(2)}), ..., (x^{(n)}, y^{(n)})'))\n",
    "display(Math(r'h(x) = \\Theta_{1}x_{1}+\\Theta_{2}x_{2}+...+\\Theta_{n}x_{n}'))"
   ]
  },
  {
   "cell_type": "markdown",
   "metadata": {},
   "source": [
    "Umijeće je pametno izabrati značajke za regresiju. Mi ćemo uzeti 3 izbora značajki te ćemo usporediti rezulate koje smo dobili da vidimo kako se ponaša algoritam linearne regresije."
   ]
  },
  {
   "cell_type": "code",
   "execution_count": 5,
   "metadata": {},
   "outputs": [],
   "source": [
    "import sympy as sp\n",
    "sp.init_printing()\n",
    "x = sp.Symbol('x')\n",
    "theta0, theta1, theta2, theta3 = sp.symbols('theta0, theta1, theta2, theta3')"
   ]
  },
  {
   "cell_type": "code",
   "execution_count": 6,
   "metadata": {},
   "outputs": [
    {
     "data": {
      "image/png": "[encoded data removed]",
      "text/latex": [
       "$$\\left ( \\theta_{0} + \\theta_{1} x, \\quad \\theta_{0} + \\theta_{1} x + \\theta_{2} x^{2}, \\quad \\theta_{0} + \\theta_{1} x + \\theta_{2} x^{2} + \\theta_{3} x^{3}\\right )$$"
      ],
      "text/plain": [
       "⎛                           2                  2       3⎞\n",
       "⎝θ₀ + θ₁⋅x, θ₀ + θ₁⋅x + θ₂⋅x , θ₀ + θ₁⋅x + θ₂⋅x  + θ₃⋅x ⎠"
      ]
     },
     "execution_count": 6,
     "metadata": {},
     "output_type": "execute_result"
    }
   ],
   "source": [
    "h1 = theta0 + theta1*x\n",
    "h2 = theta0 + theta1*x + theta2*x*x\n",
    "h3 = theta0 + theta1*x + theta2*x*x + theta3*x*x*x\n",
    "h1, h2, h3"
   ]
  },
  {
   "cell_type": "markdown",
   "metadata": {},
   "source": [
    "Ovaj oblik nam zasad nije dobar jer funkcije nisu afine. To se lako postigne trivijalnim supstitucijama."
   ]
  },
  {
   "cell_type": "code",
   "execution_count": 7,
   "metadata": {},
   "outputs": [
    {
     "data": {
      "image/png": "[encoded data removed]",
      "text/latex": [
       "$$\\left ( \\theta_{0} + \\theta_{1} x_{1}, \\quad \\theta_{0} + \\theta_{1} x_{1} + \\theta_{2} x_{2}, \\quad \\theta_{0} + \\theta_{1} x_{1} + \\theta_{2} x_{2} + \\theta_{3} x_{3}\\right )$$"
      ],
      "text/plain": [
       "(θ₀ + θ₁⋅x₁, θ₀ + θ₁⋅x₁ + θ₂⋅x₂, θ₀ + θ₁⋅x₁ + θ₂⋅x₂ + θ₃⋅x₃)"
      ]
     },
     "execution_count": 7,
     "metadata": {},
     "output_type": "execute_result"
    }
   ],
   "source": [
    "x1, x2, x3, x4 = sp.symbols('x1, x2, x3, x4')\n",
    "h1_subs = h1.subs({x: x1})\n",
    "h2_subs = h2.subs({x: x1, x*x: x2})\n",
    "h3_subs = h3.subs({x: x1, x*x: x2, x*x*x: x3})\n",
    "h1_subs, h2_subs, h3_subs"
   ]
  },
  {
   "cell_type": "markdown",
   "metadata": {},
   "source": [
    "Ideja je definirati neku funkciju cijene/greške te ju minimizirati po značajkama aproksimacijske funkcije. Za parametre u kojima se postiže minimum tvrdimo da funkcija h najbolje aproksimira dane primjere i eventualne nove."
   ]
  },
  {
   "cell_type": "code",
   "execution_count": 8,
   "metadata": {},
   "outputs": [
    {
     "data": {
      "text/latex": [
       "$$C(\\Theta_{1}, \\Theta_{2}, ..., \\Theta_{n}) = \\frac{1}{2m}\\sum_{i=1}^{m}(h(x^{(i)}) - y^{(i)})^{2}$$"
      ],
      "text/plain": [
       "<IPython.core.display.Math object>"
      ]
     },
     "metadata": {},
     "output_type": "display_data"
    },
    {
     "data": {
      "text/latex": [
       "$$\\frac{\\partial}{\\partial \\theta_{j}}C(\\Theta_{1}, \\Theta_{2}, ..., \\Theta_{n}) = \\frac{1}{m}\\sum_{i=1}^{m}(h(x^{(i)}) - y^{(i)})x_{j}^{(i)}$$"
      ],
      "text/plain": [
       "<IPython.core.display.Math object>"
      ]
     },
     "metadata": {},
     "output_type": "display_data"
    }
   ],
   "source": [
    "display(Math(r'C(\\Theta_{1}, \\Theta_{2}, ..., \\Theta_{n}) = \\frac{1}{2m}\\sum_{i=1}^{m}(h(x^{(i)}) - y^{(i)})^{2}'))\n",
    "display(Math(r'\\frac{\\partial}{\\partial \\theta_{j}}C(\\Theta_{1}, \\Theta_{2}, ..., \\Theta_{n}) = \\frac{1}{m}\\sum_{i=1}^{m}(h(x^{(i)}) - y^{(i)})x_{j}^{(i)}'))"
   ]
  },
  {
   "cell_type": "markdown",
   "metadata": {},
   "source": [
    "Općenito je jako \"skupo\" izjednačavati parcijalne derivacije s nulom te rješavati sustave jednadžbi, stoga moramo pribjeći određenim optimizacijskim metodama"
   ]
  },
  {
   "cell_type": "markdown",
   "metadata": {},
   "source": [
    "### Metoda gradijentog spusta"
   ]
  },
  {
   "cell_type": "markdown",
   "metadata": {},
   "source": [
    "Ideja je sljedeća. Znamo da realna funkcija više varijabli najbrže raste u smjeru gradijenta. Dakle onda najbrže pada u smjeru suprotnom od gradijenta. Počet ćemo od neke proizvoljne točke na funkciji te ćemo se pomaknuti za određenu \"porciju\" u smjeru suprotno od gradijenta. Potom ćemo ponovno izračunati gradijent u novodobivenoj točki te ćemo se opet spustiti za određenu \"porciju\". Na kraju se nadamo da ćemo doći do globalnog minimuma funkcije."
   ]
  },
  {
   "cell_type": "code",
   "execution_count": 9,
   "metadata": {},
   "outputs": [
    {
     "data": {
      "text/latex": [
       "$$\\Theta_{j} = \\Theta_{j} - \\alpha \\frac{\\partial}{\\partial \\theta_{j}}C(\\Theta_{1}, \\Theta_{2}, ..., \\Theta_{n}) = \\Theta_{j} - \\alpha  \\frac{1}{m}\\sum_{i=1}^{m}(h(x^{(i)}) - y^{(i)})x_{j}^{(i)}, \\eta>0$$"
      ],
      "text/plain": [
       "<IPython.core.display.Math object>"
      ]
     },
     "metadata": {},
     "output_type": "display_data"
    }
   ],
   "source": [
    "display(Math(r'\\Theta_{j} = \\Theta_{j} - \\alpha \\frac{\\partial}{\\partial \\theta_{j}}C(\\Theta_{1}, \\Theta_{2}, ..., \\Theta_{n}) = \\Theta_{j} - \\alpha  \\frac{1}{m}\\sum_{i=1}^{m}(h(x^{(i)}) - y^{(i)})x_{j}^{(i)}, \\eta>0'))"
   ]
  },
  {
   "cell_type": "code",
   "execution_count": 10,
   "metadata": {},
   "outputs": [],
   "source": [
    "import numpy as np\n",
    "# X je matrica reda m X n (svaki redak predstavlja jedan trening primjer)\n",
    "# y je matrica reda m X 1 (svaki redak predstavlja traženi rezultat za svaki trening primjer)\n",
    "# theta je matrica koeficijenata reda n X 1\n",
    "def cost(X, y, theta):\n",
    "    m = y.size\n",
    "    return 1 / (2*m) * np.sum(np.square((np.dot(X, theta) - y)))\n",
    "def cost_grad(X, y, theta):\n",
    "    m = y.size\n",
    "    return 1 / m * np.dot(np.dot(X, theta) - y, X).T"
   ]
  },
  {
   "cell_type": "code",
   "execution_count": 11,
   "metadata": {},
   "outputs": [
    {
     "data": {
      "text/plain": [
       "(array([[1., 0.],\n",
       "        [1., 1.],\n",
       "        [1., 2.],\n",
       "        [1., 3.],\n",
       "        [1., 4.],\n",
       "        [1., 5.],\n",
       "        [1., 6.],\n",
       "        [1., 7.]]), array([[ 1.,  0.,  0.],\n",
       "        [ 1.,  1.,  1.],\n",
       "        [ 1.,  2.,  4.],\n",
       "        [ 1.,  3.,  9.],\n",
       "        [ 1.,  4., 16.],\n",
       "        [ 1.,  5., 25.],\n",
       "        [ 1.,  6., 36.],\n",
       "        [ 1.,  7., 49.]]), array([[  1.,   0.,   0.,   0.],\n",
       "        [  1.,   1.,   1.,   1.],\n",
       "        [  1.,   2.,   4.,   8.],\n",
       "        [  1.,   3.,   9.,  27.],\n",
       "        [  1.,   4.,  16.,  64.],\n",
       "        [  1.,   5.,  25., 125.],\n",
       "        [  1.,   6.,  36., 216.],\n",
       "        [  1.,   7.,  49., 343.]]), array([ 0. ,  6. ,  8. , 10. , 11. , 12. , 12.5, 13. ]))"
      ]
     },
     "execution_count": 11,
     "metadata": {},
     "output_type": "execute_result"
    }
   ],
   "source": [
    "# vektorizirani trening primjeri za sve 3 aproksimacijske funkcije\n",
    "X1 = np.array([np.ones(trening['x'].size), trening['x']]).T\n",
    "X2 = np.array([np.ones(trening['x'].size), trening['x'], trening['x'] ** 2]).T\n",
    "X3 = np.array([np.ones(trening['x'].size), trening['x'], trening['x'] ** 2, trening['x'] ** 3]).T\n",
    "y = np.array(trening['y'])\n",
    "X1, X2, X3, y"
   ]
  },
  {
   "cell_type": "code",
   "execution_count": 12,
   "metadata": {},
   "outputs": [
    {
     "name": "stdout",
     "output_type": "stream",
     "text": [
      "cost: 34.104395\n",
      "cost: 23.776920\n",
      "cost: 16.794367\n",
      "cost: 12.068426\n",
      "cost: 8.865165\n",
      "cost: 6.689617\n",
      "cost: 5.207963\n",
      "cost: 4.195050\n",
      "cost: 3.499003\n",
      "cost: 3.017367\n",
      "...\n",
      "cost: 1.394531\n",
      "cost: 1.394531\n",
      "cost: 1.394531\n",
      "cost: 1.394531\n",
      "cost: 1.394531\n",
      "cost: 1.394531\n",
      "cost: 1.394531\n",
      "cost: 1.394531\n",
      "cost: 1.394531\n"
     ]
    }
   ],
   "source": [
    "def gradient_descent(X, y, theta, alpha, epochs):\n",
    "    m = y.size\n",
    "    for i in range(epochs):\n",
    "        theta = theta - alpha * cost_grad(X, y, theta)\n",
    "        if (i < 10 or i > epochs-10):\n",
    "            print('cost: {0:2f}'.format(cost(X, y, theta)))\n",
    "        elif (i == 10):\n",
    "            print('...')\n",
    "    return theta\n",
    "def lin_reg(X, y, alpha, epochs):\n",
    "    m, n = X.shape\n",
    "    theta = np.zeros(n).T\n",
    "    theta = gradient_descent(X, y, theta, alpha, 1000)\n",
    "    return theta\n",
    "def evaluate(theta, x):\n",
    "    arr = np.ones(x.size)\n",
    "    for i in range(theta.size - 1):\n",
    "        arr = np.c_[arr, x**(i+1)]\n",
    "    return np.dot(arr, theta)\n",
    "# alfu smo izabrali rucno da bude idealna, inace bi trebalo i to automatizirati.\n",
    "# više priče o tome poslije\n",
    "theta1 = lin_reg(X1, y, 0.1, 1000)"
   ]
  },
  {
   "cell_type": "code",
   "execution_count": 13,
   "metadata": {},
   "outputs": [
    {
     "data": {
      "text/plain": [
       "array([3.375, 1.625])"
      ]
     },
     "execution_count": 13,
     "metadata": {},
     "output_type": "execute_result"
    }
   ],
   "source": [
    "theta1"
   ]
  },
  {
   "cell_type": "code",
   "execution_count": 14,
   "metadata": {},
   "outputs": [
    {
     "data": {
      "text/plain": [
       "[<matplotlib.lines.Line2D at 0x2393139d240>]"
      ]
     },
     "execution_count": 14,
     "metadata": {},
     "output_type": "execute_result"
    },
    {
     "data": {
      "image/png": "[encoded data removed]",
      "text/plain": [
       "<matplotlib.figure.Figure at 0x2393139d278>"
      ]
     },
     "metadata": {},
     "output_type": "display_data"
    }
   ],
   "source": [
    "x = np.linspace(0, 8)\n",
    "plt.plot(x, evaluate(theta1, x))\n",
    "plt.plot(trening['x'], trening['y'], 'ro')"
   ]
  },
  {
   "cell_type": "markdown",
   "metadata": {},
   "source": [
    "Zasad smo vidjeli kako izgleda linearna regresija na prvom modelu. Sada ćemo to napraviti i na ostala dva modela"
   ]
  },
  {
   "cell_type": "code",
   "execution_count": 15,
   "metadata": {},
   "outputs": [
    {
     "name": "stdout",
     "output_type": "stream",
     "text": [
      "cost: 48.141670\n",
      "cost: 46.928112\n",
      "cost: 45.748908\n",
      "cost: 44.603049\n",
      "cost: 43.489553\n",
      "cost: 42.407470\n",
      "cost: 41.355876\n",
      "cost: 40.333876\n",
      "cost: 39.340601\n",
      "cost: 38.375208\n",
      "...\n",
      "cost: 0.286767\n",
      "cost: 0.286724\n",
      "cost: 0.286680\n",
      "cost: 0.286636\n",
      "cost: 0.286593\n",
      "cost: 0.286550\n",
      "cost: 0.286506\n",
      "cost: 0.286463\n",
      "cost: 0.286420\n"
     ]
    },
    {
     "data": {
      "text/plain": [
       "array([ 1.67424661,  3.51891515, -0.27846556])"
      ]
     },
     "execution_count": 15,
     "metadata": {},
     "output_type": "execute_result"
    }
   ],
   "source": [
    "theta2 = lin_reg(X2, y, 0.0033, 1000)\n",
    "theta2"
   ]
  },
  {
   "cell_type": "code",
   "execution_count": 16,
   "metadata": {},
   "outputs": [
    {
     "data": {
      "text/plain": [
       "[<matplotlib.lines.Line2D at 0x23930bbf6a0>]"
      ]
     },
     "execution_count": 16,
     "metadata": {},
     "output_type": "execute_result"
    },
    {
     "data": {
      "image/png": "[encoded data removed]",
      "text/plain": [
       "<matplotlib.figure.Figure at 0x239311a89b0>"
      ]
     },
     "metadata": {},
     "output_type": "display_data"
    }
   ],
   "source": [
    "x = np.linspace(0, 8)\n",
    "plt.plot(x, evaluate(theta2, x))\n",
    "plt.plot(trening['x'], trening['y'], 'ro')"
   ]
  },
  {
   "cell_type": "code",
   "execution_count": 17,
   "metadata": {},
   "outputs": [
    {
     "name": "stdout",
     "output_type": "stream",
     "text": [
      "cost: 42.975977\n",
      "cost: 37.829623\n",
      "cost: 33.699181\n",
      "cost: 30.382494\n",
      "cost: 27.717639\n",
      "cost: 25.574917\n",
      "cost: 23.850439\n",
      "cost: 22.460993\n",
      "cost: 21.339927\n",
      "cost: 20.433853\n",
      "...\n",
      "cost: 3.340550\n",
      "cost: 3.337964\n",
      "cost: 3.335385\n",
      "cost: 3.332813\n",
      "cost: 3.330248\n",
      "cost: 3.327691\n",
      "cost: 3.325140\n",
      "cost: 3.322596\n",
      "cost: 3.320059\n"
     ]
    },
    {
     "data": {
      "text/plain": [
       "array([ 0.19597917,  0.42956271,  0.85909158, -0.09400206])"
      ]
     },
     "execution_count": 17,
     "metadata": {},
     "output_type": "execute_result"
    }
   ],
   "source": [
    "theta3 = lin_reg(X3, y, 0.00008, 1000)\n",
    "theta3"
   ]
  },
  {
   "cell_type": "code",
   "execution_count": 18,
   "metadata": {
    "scrolled": true
   },
   "outputs": [
    {
     "data": {
      "text/plain": [
       "[<matplotlib.lines.Line2D at 0x2393129f748>]"
      ]
     },
     "execution_count": 18,
     "metadata": {},
     "output_type": "execute_result"
    },
    {
     "data": {
      "image/png": "[encoded data removed]",
      "text/plain": [
       "<matplotlib.figure.Figure at 0x2393129f6d8>"
      ]
     },
     "metadata": {},
     "output_type": "display_data"
    }
   ],
   "source": [
    "x = np.linspace(0, 8)\n",
    "plt.plot(x, evaluate(theta3, x))\n",
    "plt.plot(trening['x'], trening['y'], 'ro')"
   ]
  },
  {
   "cell_type": "markdown",
   "metadata": {},
   "source": [
    "Vidimo da je najbolji bio kvadratni model. Naravno na trening podacima bi najbolje bilo da napravimo interpolaciju s polinomom stupnja m-1 jer bi tada greška iznosila nula. Međutim, to nije dobro budući da će takav model teško generalizirati i predviđati rezultate za neke druge vrijednosti x. U jednu ruku možemo reći da je takav model \"učio napamet\" na trening primjerima. Još kažemo da se takav model pretrenirao.\n",
    "S druge strane, za prvi model ćemo reći da se podtrenirao ili da ima visoku printranost(bias) prema podacima."
   ]
  },
  {
   "cell_type": "markdown",
   "metadata": {},
   "source": [
    "## Logistička regresija"
   ]
  },
  {
   "cell_type": "markdown",
   "metadata": {},
   "source": [
    "Model logičke regresije se uglavnom primjenjuje kod problema klasifikacije. Sada imamo trening skup čiji su elementi kao inače uređeni parovi inputa X i outputa y. Međutim sada je skup svih outputa diskretan. Mi ćemo se baviti slučajem kad je konačan."
   ]
  },
  {
   "cell_type": "markdown",
   "metadata": {},
   "source": [
    "Imamo 2 trening skupa koja želimo odvojiti određenom krivuljom h koju ćemo zvati \"granica odluke\".\n",
    "Pogledajmo njihove vizualizacije"
   ]
  },
  {
   "cell_type": "code",
   "execution_count": 19,
   "metadata": {},
   "outputs": [],
   "source": [
    "trening1 = pd.read_csv('logreg_trening1.txt', sep = \",\", header = None)\n",
    "trening2 = pd.read_csv('logreg_trening2.txt', sep = \",\", header = None)"
   ]
  },
  {
   "cell_type": "code",
   "execution_count": 20,
   "metadata": {},
   "outputs": [
    {
     "data": {
      "text/html": [
       "<div>\n",
       "<style scoped>\n",
       "    .dataframe tbody tr th:only-of-type {\n",
       "        vertical-align: middle;\n",
       "    }\n",
       "\n",
       "    .dataframe tbody tr th {\n",
       "        vertical-align: top;\n",
       "    }\n",
       "\n",
       "    .dataframe thead th {\n",
       "        text-align: right;\n",
       "    }\n",
       "</style>\n",
       "<table border=\"1\" class=\"dataframe\">\n",
       "  <thead>\n",
       "    <tr style=\"text-align: right;\">\n",
       "      <th></th>\n",
       "      <th>0</th>\n",
       "      <th>1</th>\n",
       "      <th>2</th>\n",
       "    </tr>\n",
       "  </thead>\n",
       "  <tbody>\n",
       "    <tr>\n",
       "      <th>0</th>\n",
       "      <td>34.623660</td>\n",
       "      <td>78.024693</td>\n",
       "      <td>0</td>\n",
       "    </tr>\n",
       "    <tr>\n",
       "      <th>1</th>\n",
       "      <td>30.286711</td>\n",
       "      <td>43.894998</td>\n",
       "      <td>0</td>\n",
       "    </tr>\n",
       "    <tr>\n",
       "      <th>2</th>\n",
       "      <td>35.847409</td>\n",
       "      <td>72.902198</td>\n",
       "      <td>0</td>\n",
       "    </tr>\n",
       "    <tr>\n",
       "      <th>3</th>\n",
       "      <td>60.182599</td>\n",
       "      <td>86.308552</td>\n",
       "      <td>1</td>\n",
       "    </tr>\n",
       "    <tr>\n",
       "      <th>4</th>\n",
       "      <td>79.032736</td>\n",
       "      <td>75.344376</td>\n",
       "      <td>1</td>\n",
       "    </tr>\n",
       "    <tr>\n",
       "      <th>5</th>\n",
       "      <td>45.083277</td>\n",
       "      <td>56.316372</td>\n",
       "      <td>0</td>\n",
       "    </tr>\n",
       "    <tr>\n",
       "      <th>6</th>\n",
       "      <td>61.106665</td>\n",
       "      <td>96.511426</td>\n",
       "      <td>1</td>\n",
       "    </tr>\n",
       "    <tr>\n",
       "      <th>7</th>\n",
       "      <td>75.024746</td>\n",
       "      <td>46.554014</td>\n",
       "      <td>1</td>\n",
       "    </tr>\n",
       "    <tr>\n",
       "      <th>8</th>\n",
       "      <td>76.098787</td>\n",
       "      <td>87.420570</td>\n",
       "      <td>1</td>\n",
       "    </tr>\n",
       "    <tr>\n",
       "      <th>9</th>\n",
       "      <td>84.432820</td>\n",
       "      <td>43.533393</td>\n",
       "      <td>1</td>\n",
       "    </tr>\n",
       "    <tr>\n",
       "      <th>10</th>\n",
       "      <td>95.861555</td>\n",
       "      <td>38.225278</td>\n",
       "      <td>0</td>\n",
       "    </tr>\n",
       "    <tr>\n",
       "      <th>11</th>\n",
       "      <td>75.013658</td>\n",
       "      <td>30.603263</td>\n",
       "      <td>0</td>\n",
       "    </tr>\n",
       "    <tr>\n",
       "      <th>12</th>\n",
       "      <td>82.307053</td>\n",
       "      <td>76.481963</td>\n",
       "      <td>1</td>\n",
       "    </tr>\n",
       "    <tr>\n",
       "      <th>13</th>\n",
       "      <td>69.364589</td>\n",
       "      <td>97.718692</td>\n",
       "      <td>1</td>\n",
       "    </tr>\n",
       "    <tr>\n",
       "      <th>14</th>\n",
       "      <td>39.538339</td>\n",
       "      <td>76.036811</td>\n",
       "      <td>0</td>\n",
       "    </tr>\n",
       "    <tr>\n",
       "      <th>15</th>\n",
       "      <td>53.971052</td>\n",
       "      <td>89.207350</td>\n",
       "      <td>1</td>\n",
       "    </tr>\n",
       "    <tr>\n",
       "      <th>16</th>\n",
       "      <td>69.070144</td>\n",
       "      <td>52.740470</td>\n",
       "      <td>1</td>\n",
       "    </tr>\n",
       "    <tr>\n",
       "      <th>17</th>\n",
       "      <td>67.946855</td>\n",
       "      <td>46.678574</td>\n",
       "      <td>0</td>\n",
       "    </tr>\n",
       "    <tr>\n",
       "      <th>18</th>\n",
       "      <td>70.661510</td>\n",
       "      <td>92.927138</td>\n",
       "      <td>1</td>\n",
       "    </tr>\n",
       "    <tr>\n",
       "      <th>19</th>\n",
       "      <td>76.978784</td>\n",
       "      <td>47.575964</td>\n",
       "      <td>1</td>\n",
       "    </tr>\n",
       "    <tr>\n",
       "      <th>20</th>\n",
       "      <td>67.372028</td>\n",
       "      <td>42.838438</td>\n",
       "      <td>0</td>\n",
       "    </tr>\n",
       "    <tr>\n",
       "      <th>21</th>\n",
       "      <td>89.676776</td>\n",
       "      <td>65.799366</td>\n",
       "      <td>1</td>\n",
       "    </tr>\n",
       "    <tr>\n",
       "      <th>22</th>\n",
       "      <td>50.534788</td>\n",
       "      <td>48.855812</td>\n",
       "      <td>0</td>\n",
       "    </tr>\n",
       "    <tr>\n",
       "      <th>23</th>\n",
       "      <td>34.212061</td>\n",
       "      <td>44.209529</td>\n",
       "      <td>0</td>\n",
       "    </tr>\n",
       "    <tr>\n",
       "      <th>24</th>\n",
       "      <td>77.924091</td>\n",
       "      <td>68.972360</td>\n",
       "      <td>1</td>\n",
       "    </tr>\n",
       "    <tr>\n",
       "      <th>25</th>\n",
       "      <td>62.271014</td>\n",
       "      <td>69.954458</td>\n",
       "      <td>1</td>\n",
       "    </tr>\n",
       "    <tr>\n",
       "      <th>26</th>\n",
       "      <td>80.190181</td>\n",
       "      <td>44.821629</td>\n",
       "      <td>1</td>\n",
       "    </tr>\n",
       "    <tr>\n",
       "      <th>27</th>\n",
       "      <td>93.114389</td>\n",
       "      <td>38.800670</td>\n",
       "      <td>0</td>\n",
       "    </tr>\n",
       "    <tr>\n",
       "      <th>28</th>\n",
       "      <td>61.830206</td>\n",
       "      <td>50.256108</td>\n",
       "      <td>0</td>\n",
       "    </tr>\n",
       "    <tr>\n",
       "      <th>29</th>\n",
       "      <td>38.785804</td>\n",
       "      <td>64.995681</td>\n",
       "      <td>0</td>\n",
       "    </tr>\n",
       "    <tr>\n",
       "      <th>...</th>\n",
       "      <td>...</td>\n",
       "      <td>...</td>\n",
       "      <td>...</td>\n",
       "    </tr>\n",
       "    <tr>\n",
       "      <th>70</th>\n",
       "      <td>32.722833</td>\n",
       "      <td>43.307173</td>\n",
       "      <td>0</td>\n",
       "    </tr>\n",
       "    <tr>\n",
       "      <th>71</th>\n",
       "      <td>64.039320</td>\n",
       "      <td>78.031688</td>\n",
       "      <td>1</td>\n",
       "    </tr>\n",
       "    <tr>\n",
       "      <th>72</th>\n",
       "      <td>72.346494</td>\n",
       "      <td>96.227593</td>\n",
       "      <td>1</td>\n",
       "    </tr>\n",
       "    <tr>\n",
       "      <th>73</th>\n",
       "      <td>60.457886</td>\n",
       "      <td>73.094998</td>\n",
       "      <td>1</td>\n",
       "    </tr>\n",
       "    <tr>\n",
       "      <th>74</th>\n",
       "      <td>58.840956</td>\n",
       "      <td>75.858448</td>\n",
       "      <td>1</td>\n",
       "    </tr>\n",
       "    <tr>\n",
       "      <th>75</th>\n",
       "      <td>99.827858</td>\n",
       "      <td>72.369252</td>\n",
       "      <td>1</td>\n",
       "    </tr>\n",
       "    <tr>\n",
       "      <th>76</th>\n",
       "      <td>47.264269</td>\n",
       "      <td>88.475865</td>\n",
       "      <td>1</td>\n",
       "    </tr>\n",
       "    <tr>\n",
       "      <th>77</th>\n",
       "      <td>50.458160</td>\n",
       "      <td>75.809860</td>\n",
       "      <td>1</td>\n",
       "    </tr>\n",
       "    <tr>\n",
       "      <th>78</th>\n",
       "      <td>60.455556</td>\n",
       "      <td>42.508409</td>\n",
       "      <td>0</td>\n",
       "    </tr>\n",
       "    <tr>\n",
       "      <th>79</th>\n",
       "      <td>82.226662</td>\n",
       "      <td>42.719879</td>\n",
       "      <td>0</td>\n",
       "    </tr>\n",
       "    <tr>\n",
       "      <th>80</th>\n",
       "      <td>88.913896</td>\n",
       "      <td>69.803789</td>\n",
       "      <td>1</td>\n",
       "    </tr>\n",
       "    <tr>\n",
       "      <th>81</th>\n",
       "      <td>94.834507</td>\n",
       "      <td>45.694307</td>\n",
       "      <td>1</td>\n",
       "    </tr>\n",
       "    <tr>\n",
       "      <th>82</th>\n",
       "      <td>67.319257</td>\n",
       "      <td>66.589353</td>\n",
       "      <td>1</td>\n",
       "    </tr>\n",
       "    <tr>\n",
       "      <th>83</th>\n",
       "      <td>57.238706</td>\n",
       "      <td>59.514282</td>\n",
       "      <td>1</td>\n",
       "    </tr>\n",
       "    <tr>\n",
       "      <th>84</th>\n",
       "      <td>80.366756</td>\n",
       "      <td>90.960148</td>\n",
       "      <td>1</td>\n",
       "    </tr>\n",
       "    <tr>\n",
       "      <th>85</th>\n",
       "      <td>68.468522</td>\n",
       "      <td>85.594307</td>\n",
       "      <td>1</td>\n",
       "    </tr>\n",
       "    <tr>\n",
       "      <th>86</th>\n",
       "      <td>42.075455</td>\n",
       "      <td>78.844786</td>\n",
       "      <td>0</td>\n",
       "    </tr>\n",
       "    <tr>\n",
       "      <th>87</th>\n",
       "      <td>75.477702</td>\n",
       "      <td>90.424539</td>\n",
       "      <td>1</td>\n",
       "    </tr>\n",
       "    <tr>\n",
       "      <th>88</th>\n",
       "      <td>78.635424</td>\n",
       "      <td>96.647427</td>\n",
       "      <td>1</td>\n",
       "    </tr>\n",
       "    <tr>\n",
       "      <th>89</th>\n",
       "      <td>52.348004</td>\n",
       "      <td>60.769505</td>\n",
       "      <td>0</td>\n",
       "    </tr>\n",
       "    <tr>\n",
       "      <th>90</th>\n",
       "      <td>94.094331</td>\n",
       "      <td>77.159105</td>\n",
       "      <td>1</td>\n",
       "    </tr>\n",
       "    <tr>\n",
       "      <th>91</th>\n",
       "      <td>90.448551</td>\n",
       "      <td>87.508792</td>\n",
       "      <td>1</td>\n",
       "    </tr>\n",
       "    <tr>\n",
       "      <th>92</th>\n",
       "      <td>55.482161</td>\n",
       "      <td>35.570703</td>\n",
       "      <td>0</td>\n",
       "    </tr>\n",
       "    <tr>\n",
       "      <th>93</th>\n",
       "      <td>74.492692</td>\n",
       "      <td>84.845137</td>\n",
       "      <td>1</td>\n",
       "    </tr>\n",
       "    <tr>\n",
       "      <th>94</th>\n",
       "      <td>89.845807</td>\n",
       "      <td>45.358284</td>\n",
       "      <td>1</td>\n",
       "    </tr>\n",
       "    <tr>\n",
       "      <th>95</th>\n",
       "      <td>83.489163</td>\n",
       "      <td>48.380286</td>\n",
       "      <td>1</td>\n",
       "    </tr>\n",
       "    <tr>\n",
       "      <th>96</th>\n",
       "      <td>42.261701</td>\n",
       "      <td>87.103851</td>\n",
       "      <td>1</td>\n",
       "    </tr>\n",
       "    <tr>\n",
       "      <th>97</th>\n",
       "      <td>99.315009</td>\n",
       "      <td>68.775409</td>\n",
       "      <td>1</td>\n",
       "    </tr>\n",
       "    <tr>\n",
       "      <th>98</th>\n",
       "      <td>55.340018</td>\n",
       "      <td>64.931938</td>\n",
       "      <td>1</td>\n",
       "    </tr>\n",
       "    <tr>\n",
       "      <th>99</th>\n",
       "      <td>74.775893</td>\n",
       "      <td>89.529813</td>\n",
       "      <td>1</td>\n",
       "    </tr>\n",
       "  </tbody>\n",
       "</table>\n",
       "<p>100 rows × 3 columns</p>\n",
       "</div>"
      ],
      "text/plain": [
       "            0          1  2\n",
       "0   34.623660  78.024693  0\n",
       "1   30.286711  43.894998  0\n",
       "2   35.847409  72.902198  0\n",
       "3   60.182599  86.308552  1\n",
       "4   79.032736  75.344376  1\n",
       "5   45.083277  56.316372  0\n",
       "6   61.106665  96.511426  1\n",
       "7   75.024746  46.554014  1\n",
       "8   76.098787  87.420570  1\n",
       "9   84.432820  43.533393  1\n",
       "10  95.861555  38.225278  0\n",
       "11  75.013658  30.603263  0\n",
       "12  82.307053  76.481963  1\n",
       "13  69.364589  97.718692  1\n",
       "14  39.538339  76.036811  0\n",
       "15  53.971052  89.207350  1\n",
       "16  69.070144  52.740470  1\n",
       "17  67.946855  46.678574  0\n",
       "18  70.661510  92.927138  1\n",
       "19  76.978784  47.575964  1\n",
       "20  67.372028  42.838438  0\n",
       "21  89.676776  65.799366  1\n",
       "22  50.534788  48.855812  0\n",
       "23  34.212061  44.209529  0\n",
       "24  77.924091  68.972360  1\n",
       "25  62.271014  69.954458  1\n",
       "26  80.190181  44.821629  1\n",
       "27  93.114389  38.800670  0\n",
       "28  61.830206  50.256108  0\n",
       "29  38.785804  64.995681  0\n",
       "..        ...        ... ..\n",
       "70  32.722833  43.307173  0\n",
       "71  64.039320  78.031688  1\n",
       "72  72.346494  96.227593  1\n",
       "73  60.457886  73.094998  1\n",
       "74  58.840956  75.858448  1\n",
       "75  99.827858  72.369252  1\n",
       "76  47.264269  88.475865  1\n",
       "77  50.458160  75.809860  1\n",
       "78  60.455556  42.508409  0\n",
       "79  82.226662  42.719879  0\n",
       "80  88.913896  69.803789  1\n",
       "81  94.834507  45.694307  1\n",
       "82  67.319257  66.589353  1\n",
       "83  57.238706  59.514282  1\n",
       "84  80.366756  90.960148  1\n",
       "85  68.468522  85.594307  1\n",
       "86  42.075455  78.844786  0\n",
       "87  75.477702  90.424539  1\n",
       "88  78.635424  96.647427  1\n",
       "89  52.348004  60.769505  0\n",
       "90  94.094331  77.159105  1\n",
       "91  90.448551  87.508792  1\n",
       "92  55.482161  35.570703  0\n",
       "93  74.492692  84.845137  1\n",
       "94  89.845807  45.358284  1\n",
       "95  83.489163  48.380286  1\n",
       "96  42.261701  87.103851  1\n",
       "97  99.315009  68.775409  1\n",
       "98  55.340018  64.931938  1\n",
       "99  74.775893  89.529813  1\n",
       "\n",
       "[100 rows x 3 columns]"
      ]
     },
     "execution_count": 20,
     "metadata": {},
     "output_type": "execute_result"
    }
   ],
   "source": [
    "trening1"
   ]
  },
  {
   "cell_type": "code",
   "execution_count": 21,
   "metadata": {},
   "outputs": [
    {
     "data": {
      "image/png": "[encoded data removed]",
      "text/plain": [
       "<matplotlib.figure.Figure at 0x2392eae7048>"
      ]
     },
     "execution_count": 21,
     "metadata": {},
     "output_type": "execute_result"
    },
    {
     "data": {
      "image/png": "[encoded data removed]",
      "text/plain": [
       "<matplotlib.figure.Figure at 0x2392eae7048>"
      ]
     },
     "metadata": {},
     "output_type": "display_data"
    }
   ],
   "source": [
    "from matplotlib import gridspec\n",
    "%matplotlib agg\n",
    "\n",
    "def plot_set (ax, trening):\n",
    "    for i in range(trening.shape[0]):\n",
    "        if (trening[2][i] == 0):\n",
    "            ax.scatter(trening[0][i], trening[1][i], c = 'blue')\n",
    "        else:\n",
    "            ax.scatter(trening[0][i], trening[1][i], c = 'red')\n",
    "\n",
    "fig = plt.figure(figsize=(8, 4)) \n",
    "gs = gridspec.GridSpec(1, 2, width_ratios=[1, 1]) \n",
    "ax0 = plt.subplot(gs[0])\n",
    "plot_set(ax0, trening1)\n",
    "ax1 = plt.subplot(gs[1])\n",
    "plot_set(ax1, trening2)\n",
    "\n",
    "plt.tight_layout()\n",
    "fig"
   ]
  },
  {
   "cell_type": "markdown",
   "metadata": {},
   "source": [
    "Imamo trening skup sljedećeg oblika"
   ]
  },
  {
   "cell_type": "code",
   "execution_count": 22,
   "metadata": {},
   "outputs": [
    {
     "data": {
      "text/latex": [
       "$$(x^{(1)}, y^{(1)}), (x^{(2)}, y^{(2)}), ..., (x^{(m)}, y^{(m)}), y^{i}\\in\\{0, 1\\}$$"
      ],
      "text/plain": [
       "<IPython.core.display.Math object>"
      ]
     },
     "metadata": {},
     "output_type": "display_data"
    }
   ],
   "source": [
    "display(Math(r'(x^{(1)}, y^{(1)}), (x^{(2)}, y^{(2)}), ..., (x^{(m)}, y^{(m)}), y^{i}\\in\\{0, 1\\}'))"
   ]
  },
  {
   "cell_type": "markdown",
   "metadata": {},
   "source": [
    "Aproksimacijsku funkciju ne možemo više imati u standardnom obliku kao u linearnoj regresiji jer je ta funckija polinomijalna čime je neograničena, stoga neće dobro aproksimirati skup."
   ]
  },
  {
   "cell_type": "code",
   "execution_count": 23,
   "metadata": {},
   "outputs": [
    {
     "data": {
      "text/plain": [
       "[<matplotlib.lines.Line2D at 0x239317c2cc0>]"
      ]
     },
     "execution_count": 23,
     "metadata": {},
     "output_type": "execute_result"
    },
    {
     "data": {
      "image/png": "[encoded data removed]",
      "text/plain": [
       "<matplotlib.figure.Figure at 0x23931166f60>"
      ]
     },
     "metadata": {},
     "output_type": "display_data"
    }
   ],
   "source": [
    "plt.plot([0, 1, 2, 3], [0, 0, 0, 0], 'ro', c = 'blue')\n",
    "plt.plot([4, 5, 6, 7], [1, 1, 1, 1], 'ro', c = 'red')\n",
    "x = np.linspace(-2, 10)\n",
    "plt.plot(x, x / 7)"
   ]
  },
  {
   "cell_type": "markdown",
   "metadata": {},
   "source": [
    "Želimo našu staru aproksimacijsku funkciju nekako \"zgnječiti\" da joj vrijednosti uvijek budu između 0 i 1.\n",
    "Rješenje je komponiranje sa logističkom/sigmoidnom funkcijom"
   ]
  },
  {
   "cell_type": "code",
   "execution_count": 24,
   "metadata": {},
   "outputs": [
    {
     "data": {
      "text/latex": [
       "$$h(x)=g(\\theta^{\\tau}X),\\: g(z)=\\frac{1}{1+e^{-z}}$$"
      ],
      "text/plain": [
       "<IPython.core.display.Math object>"
      ]
     },
     "metadata": {},
     "output_type": "display_data"
    }
   ],
   "source": [
    "display(Math(r'h(x)=g(\\theta^{\\tau}X),\\: g(z)=\\frac{1}{1+e^{-z}}'))"
   ]
  },
  {
   "cell_type": "code",
   "execution_count": 51,
   "metadata": {},
   "outputs": [
    {
     "data": {
      "application/vnd.jupyter.widget-view+json": {
       "model_id": "af4330790f704c58b878d56037c00b3f",
       "version_major": 2,
       "version_minor": 0
      },
      "text/html": [
       "<p>Failed to display Jupyter Widget of type <code>interactive</code>.</p>\n",
       "<p>\n",
       "  If you're reading this message in the Jupyter Notebook or JupyterLab Notebook, it may mean\n",
       "  that the widgets JavaScript is still loading. If this message persists, it\n",
       "  likely means that the widgets JavaScript library is either not installed or\n",
       "  not enabled. See the <a href=\"https://ipywidgets.readthedocs.io/en/stable/user_install.html\">Jupyter\n",
       "  Widgets Documentation</a> for setup instructions.\n",
       "</p>\n",
       "<p>\n",
       "  If you're reading this message in another frontend (for example, a static\n",
       "  rendering on GitHub or <a href=\"https://nbviewer.jupyter.org/\">NBViewer</a>),\n",
       "  it may mean that your frontend doesn't currently support widgets.\n",
       "</p>\n"
      ],
      "text/plain": [
       "interactive(children=(FloatSlider(value=5.2, description='a', max=10.0, min=0.5), FloatSlider(value=5.0, description='b', max=10.0, min=1.0, step=0.2), Output()), _dom_classes=('widget-interact',))"
      ]
     },
     "metadata": {},
     "output_type": "display_data"
    },
    {
     "data": {
      "text/plain": [
       "<function __main__.pltsigmoid>"
      ]
     },
     "execution_count": 51,
     "metadata": {},
     "output_type": "execute_result"
    }
   ],
   "source": [
    "from IPython.html.widgets import *\n",
    "%matplotlib inline\n",
    "\n",
    "def pltsigmoid(a, b):\n",
    "    plt.plot([0, 1, 2, 3], [0, 0, 0, 0], 'ro', c = 'blue')\n",
    "    plt.plot([4, 5, 6, 7], [1, 1, 1, 1], 'ro', c = 'red')\n",
    "    x = np.linspace(-2, 10)\n",
    "    plt.plot(x, 1/(1 + np.e**-(a*(x-b))))\n",
    "    plt.show()\n",
    "\n",
    "interact(pltsigmoid, a=(0.5, 10, 0.1), b=(1, 10, 0.2))"
   ]
  },
  {
   "cell_type": "markdown",
   "metadata": {},
   "source": [
    "Intuitivno, možemo aproksimacijsku funkciju h shvatiti kao vjerojatnost da ćemo upasti u klasu 1 uz uvjet na X i theta.\n",
    "Rezultat ćemo klasificirati kao 0 ako je vrijednost funkcije manja od 0.5, te 1 ako je vrijednost veća ili jednaka 0.5 .\n",
    "Zapravo imamo sljedeće"
   ]
  },
  {
   "cell_type": "code",
   "execution_count": 26,
   "metadata": {},
   "outputs": [
    {
     "data": {
      "text/latex": [
       "$$h(x)<0.5 \\Rightarrow \\theta^{\\tau}X<0 \\Rightarrow y=0$$"
      ],
      "text/plain": [
       "<IPython.core.display.Math object>"
      ]
     },
     "metadata": {},
     "output_type": "display_data"
    },
    {
     "data": {
      "text/latex": [
       "$$h(x)\\geqslant0.5 \\Rightarrow \\theta^{\\tau}X\\geqslant0 \\Rightarrow y=1$$"
      ],
      "text/plain": [
       "<IPython.core.display.Math object>"
      ]
     },
     "metadata": {},
     "output_type": "display_data"
    }
   ],
   "source": [
    "display(Math(r'h(x)<0.5 \\Rightarrow \\theta^{\\tau}X<0 \\Rightarrow y=0'))\n",
    "display(Math(r'h(x)\\geqslant0.5 \\Rightarrow \\theta^{\\tau}X\\geqslant0 \\Rightarrow y=1'))"
   ]
  },
  {
   "cell_type": "markdown",
   "metadata": {},
   "source": [
    "### Gradijentni spust"
   ]
  },
  {
   "cell_type": "markdown",
   "metadata": {},
   "source": [
    "Definiramo funkciju cijene malo drugačije i lako odredimo njenu derivaciju"
   ]
  },
  {
   "cell_type": "code",
   "execution_count": 27,
   "metadata": {},
   "outputs": [
    {
     "data": {
      "text/latex": [
       "$$C(\\theta)=-\\frac{1}{m}\\sum_{i=1}^{m}[y^{(i)}log(h(x^{(i)})) + (1-y^{(i)})log(1-h(x^{(i)}))]$$"
      ],
      "text/plain": [
       "<IPython.core.display.Math object>"
      ]
     },
     "metadata": {},
     "output_type": "display_data"
    },
    {
     "data": {
      "text/latex": [
       "$$\\frac{\\partial}{\\partial\\theta_{j}}C(\\theta)=\\frac{1}{m}\\sum_{i=1}^{m}(h(x^{(i)})-y^{(i)})x_{j}^{(i)}$$"
      ],
      "text/plain": [
       "<IPython.core.display.Math object>"
      ]
     },
     "metadata": {},
     "output_type": "display_data"
    },
    {
     "data": {
      "text/latex": [
       "$$\\frac{d}{dx}g(x)=g(x)(1-g(x))$$"
      ],
      "text/plain": [
       "<IPython.core.display.Math object>"
      ]
     },
     "metadata": {},
     "output_type": "display_data"
    }
   ],
   "source": [
    "display(Math(r'C(\\theta)=-\\frac{1}{m}\\sum_{i=1}^{m}[y^{(i)}log(h(x^{(i)})) + (1-y^{(i)})log(1-h(x^{(i)}))]'))\n",
    "display(Math(r'\\frac{\\partial}{\\partial\\theta_{j}}C(\\theta)=\\frac{1}{m}\\sum_{i=1}^{m}(h(x^{(i)})-y^{(i)})x_{j}^{(i)}'))\n",
    "display(Math(r'\\frac{d}{dx}g(x)=g(x)(1-g(x))'))"
   ]
  },
  {
   "cell_type": "markdown",
   "metadata": {},
   "source": [
    "ovo je formula za gradijentni spust"
   ]
  },
  {
   "cell_type": "code",
   "execution_count": 28,
   "metadata": {},
   "outputs": [
    {
     "data": {
      "text/latex": [
       "$$\\theta_{j}=\\theta_{j} - \\frac{\\alpha}{m}\\sum_{i=1}^{m}(h(x^{(i)})-y^{(i)})x_{j}^{(i)}$$"
      ],
      "text/plain": [
       "<IPython.core.display.Math object>"
      ]
     },
     "metadata": {},
     "output_type": "display_data"
    }
   ],
   "source": [
    "display(Math(r'\\theta_{j}=\\theta_{j} - \\frac{\\alpha}{m}\\sum_{i=1}^{m}(h(x^{(i)})-y^{(i)})x_{j}^{(i)}'))"
   ]
  },
  {
   "cell_type": "code",
   "execution_count": 29,
   "metadata": {},
   "outputs": [],
   "source": [
    "def sigmoid(z):\n",
    "    return 1 / (1 + np.e**-z)\n",
    "def cost_logistic(X, y, theta):\n",
    "    m = y.size\n",
    "    return -1 / m * (np.dot(y, np.log(sigmoid(np.dot(X, theta)))) + np.dot(np.ones(m) - y, np.log(np.ones(m) - sigmoid(np.dot(X, theta)))))\n",
    "def cost_logistic_grad(X, y, theta):\n",
    "    m = y.size\n",
    "    return 1 / m * np.dot(sigmoid(np.dot(X, theta)) - y, X).T"
   ]
  },
  {
   "cell_type": "code",
   "execution_count": 30,
   "metadata": {},
   "outputs": [],
   "source": [
    "# vektorizirani trening primjeri\n",
    "X1 = np.array([np.ones(trening1[0].size), trening1[0], trening1[1]]).T\n",
    "X2 = np.array([np.ones(trening2[0].size), trening2[0], trening2[1], trening2[0]**2, trening2[1]**2]).T\n",
    "y1 = np.array(trening1[2]).T\n",
    "y2 = np.array(trening2[2]).T"
   ]
  },
  {
   "cell_type": "code",
   "execution_count": 31,
   "metadata": {},
   "outputs": [],
   "source": [
    "def gradient_descent_logistic(X, y, theta, alpha, epochs):\n",
    "    m = y.size\n",
    "    for i in range(epochs):\n",
    "        theta = theta - alpha * cost_logistic_grad(X, y, theta)\n",
    "        if (i < 10 or i > epochs-10):\n",
    "            print('cost: {0:2f}'.format(cost_logistic(X, y, theta)))\n",
    "        elif (i == 10):\n",
    "            print('...')\n",
    "    return theta\n",
    "def log_reg(X, y, alpha, epochs):\n",
    "    m, n = X.shape\n",
    "    theta = np.zeros(n).T\n",
    "    print(cost_logistic(X, y, theta))\n",
    "    print(cost_logistic_grad(X, y, theta))\n",
    "    theta = gradient_descent_logistic(X, y, theta, alpha, epochs)\n",
    "    return theta"
   ]
  },
  {
   "cell_type": "code",
   "execution_count": 32,
   "metadata": {},
   "outputs": [
    {
     "name": "stdout",
     "output_type": "stream",
     "text": [
      "0.6931471805599452\n",
      "[ -0.1        -12.00921659 -11.26284221]\n",
      "cost: 0.698291\n",
      "cost: 0.659712\n",
      "cost: 0.661627\n",
      "cost: 0.648862\n",
      "cost: 0.649696\n",
      "cost: 0.643110\n",
      "cost: 0.643465\n",
      "cost: 0.639525\n",
      "cost: 0.639643\n",
      "cost: 0.637096\n",
      "...\n",
      "cost: 0.224654\n",
      "cost: 0.224654\n",
      "cost: 0.224654\n",
      "cost: 0.224654\n",
      "cost: 0.224654\n",
      "cost: 0.224654\n",
      "cost: 0.224654\n",
      "cost: 0.224654\n",
      "cost: 0.224654\n"
     ]
    },
    {
     "data": {
      "text/plain": [
       "array([-15.39517866,   0.12825989,   0.12247929])"
      ]
     },
     "execution_count": 32,
     "metadata": {},
     "output_type": "execute_result"
    }
   ],
   "source": [
    "theta1 = log_reg(X1, y1, 0.0010, 1000000)\n",
    "theta1"
   ]
  },
  {
   "cell_type": "code",
   "execution_count": 33,
   "metadata": {},
   "outputs": [
    {
     "name": "stdout",
     "output_type": "stream",
     "text": [
      "0.6931471805599453\n",
      "[8.47457627e-03 1.87880932e-02 7.77711864e-05 5.03446395e-02\n",
      " 3.76648474e-02]\n",
      "cost: 0.667406\n",
      "cost: 0.663232\n",
      "cost: 0.711203\n",
      "cost: 0.859757\n",
      "cost: 1.125279\n",
      "cost: 1.071755\n",
      "cost: 1.196887\n",
      "cost: 0.975798\n",
      "cost: 1.098115\n",
      "cost: 0.924208\n",
      "...\n",
      "cost: 0.434957\n",
      "cost: 0.434957\n",
      "cost: 0.434957\n",
      "cost: 0.434957\n",
      "cost: 0.434957\n",
      "cost: 0.434957\n",
      "cost: 0.434957\n",
      "cost: 0.434957\n",
      "cost: 0.434957\n"
     ]
    },
    {
     "data": {
      "text/plain": [
       "array([ 3.81164607,  1.35847914,  2.29942288, -8.45116442, -7.77858164])"
      ]
     },
     "execution_count": 33,
     "metadata": {},
     "output_type": "execute_result"
    }
   ],
   "source": [
    "theta2 = log_reg(X2, y2, 10, 100000)\n",
    "theta2"
   ]
  },
  {
   "cell_type": "code",
   "execution_count": 34,
   "metadata": {},
   "outputs": [
    {
     "data": {
      "image/png": "[encoded data removed]",
      "text/plain": [
       "<matplotlib.figure.Figure at 0x23931860a58>"
      ]
     },
     "execution_count": 34,
     "metadata": {},
     "output_type": "execute_result"
    },
    {
     "data": {
      "image/png": "[encoded data removed]",
      "text/plain": [
       "<matplotlib.figure.Figure at 0x23931860a58>"
      ]
     },
     "metadata": {},
     "output_type": "display_data"
    }
   ],
   "source": [
    "# vizualizacija točaka\n",
    "fig = plt.figure(figsize=(8, 4)) \n",
    "gs = gridspec.GridSpec(1, 2, width_ratios=[1, 1]) \n",
    "ax0 = plt.subplot(gs[0])\n",
    "plot_set(ax0, trening1)\n",
    "ax1 = plt.subplot(gs[1])\n",
    "plot_set(ax1, trening2)\n",
    "\n",
    "# vizualizacija granice odluke\n",
    "x = np.linspace(25, 105)\n",
    "ax0.plot(x, -theta1[0] / theta1[2] -theta1[1] / theta1[2] * x, c = 'black')\n",
    "t = np.linspace(0, 2 * np.pi)\n",
    "a = theta2[1]**2 / (4 * np.abs(theta2[3])) + theta2[2]**2 / (4 * np.abs(theta2[4])**2) + theta2[0]\n",
    "ax1.plot((theta2[1] / (2*np.sqrt(np.abs(theta2[3]))) - np.sqrt(a)*np.sin(t)) / np.sqrt(np.abs(theta2[3])),\n",
    "        (theta2[2] / (2*np.sqrt(np.abs(theta2[4]))) - np.sqrt(a)*np.cos(t)) / np.sqrt(np.abs(theta2[4])), c = 'black')\n",
    "\n",
    "plt.tight_layout()\n",
    "fig"
   ]
  },
  {
   "cell_type": "markdown",
   "metadata": {},
   "source": [
    "Vidimo da je logistička regresija moćan alat za klasifikaciju primjera.\n",
    "Napomenimo da se algoritam ne mijenja previše ako imamo više od 2 klase. Tada radimo usporedbe svake klase s ostalim klasama čime dobijemo gore spomenutu \"vjerojatnost\" da se primjer nalazi u toj klasi. Na kraju proglasimo da je objekt u klasi koja ima najveću vrijednost \"vjerojatnosti\"."
   ]
  },
  {
   "cell_type": "markdown",
   "metadata": {},
   "source": [
    "## Motivacija za neuronske mreže"
   ]
  },
  {
   "cell_type": "markdown",
   "metadata": {},
   "source": [
    "Dosad smo vidjeli modele linearne regresije i logističke regresije te smo zaključili da su to jako moćni alati za učenje s nadzorom. Međutim preciznost modela jako ovisi o izboru njegovih značajki(features). Model neuronskih mreža je ključ za rješenje tog modela, posebno model koji je vezan uz duboko učenje."
   ]
  },
  {
   "cell_type": "markdown",
   "metadata": {},
   "source": [
    "Napravimo vizualizaciju logističke regresije"
   ]
  },
  {
   "cell_type": "code",
   "execution_count": 58,
   "metadata": {},
   "outputs": [
    {
     "data": {
      "text/plain": [
       "<matplotlib.image.AxesImage at 0x23931e64e48>"
      ]
     },
     "execution_count": 58,
     "metadata": {},
     "output_type": "execute_result"
    },
    {
     "data": {
      "image/png": "[encoded data removed]",
      "text/plain": [
       "<matplotlib.figure.Figure at 0x239343fdba8>"
      ]
     },
     "metadata": {},
     "output_type": "display_data"
    }
   ],
   "source": [
    "neuron = plt.imread('neuron.png')\n",
    "plt.imshow(neuron)"
   ]
  },
  {
   "cell_type": "markdown",
   "metadata": {},
   "source": [
    "Elementi označeni s 'x' su ulazni podaci, koeficijenti 'omega' su isti oni kao kod logističke regresije, samo što smo nulti koeficijent označili s b. Vidimo da se oni skalarno pomnože te na njih djeluje sigmoidna funkcija.\n",
    "Ovakav mali sustav ćemo zvati neuron. Koeficijente ćemo zvati težinama(weights) neurona, dok nulti koeficijent zovemo pristranost(bias) neurona. Taj bias možemo shvatiti kao neki prag za donošenje pozitivne(1) ili negativne(0) odluke u klasifikaciji."
   ]
  },
  {
   "cell_type": "markdown",
   "metadata": {},
   "source": [
    "Ideja je izgraditi model koji će se sastojati od puno takvih neurona koji će biti povezani slojevima. To će nam omogućiti da model postane robusniji te da u nekom smislu može stvarati sam svoje značajke. Zapravo ćemo dobiti da model sloj po sloj gradi više razine apstrakcije na temelju kojih klasificira."
   ]
  },
  {
   "cell_type": "code",
   "execution_count": 60,
   "metadata": {},
   "outputs": [
    {
     "data": {
      "text/plain": [
       "<matplotlib.image.AxesImage at 0x239331d1ba8>"
      ]
     },
     "execution_count": 60,
     "metadata": {},
     "output_type": "execute_result"
    },
    {
     "data": {
      "image/png": "[encoded data removed]",
      "text/plain": [
       "<matplotlib.figure.Figure at 0x23931ccb080>"
      ]
     },
     "metadata": {},
     "output_type": "display_data"
    }
   ],
   "source": [
    "mreza = plt.imread('mreza.png')\n",
    "plt.imshow(mreza)"
   ]
  },
  {
   "cell_type": "markdown",
   "metadata": {},
   "source": [
    "Sada ćemo primjeniti neuralnu mrežu na problem prepoznavanja rukom pisanih znamenki. Trening skup se sastoji od 50000 primjera znamenki, dok se skup na kojem ćemo testirati natrenirani model sastoji od 10000 znamenki (http://yann.lecun.com/exdb/mnist/).\n",
    "Naša mreža će imati 3 sloja: ulazni od 784 neurona - svaki neuron predstavlja piksel 28 x 28 slike znamenke, skriveni sloj od 30 neurona i izlazni sloj od 10 neurona budući da imamo 10 klasa koje predstavljaju znamenke.\n",
    "Bitna napomena: Oko 80% koda nije napisano s moje strane budući da je posao implementacije gradijentnog spusta za neuralne mreže jako netrivijalan, zahtjeva puno posla, a gotova rješenja već postoje - \"we don't want to reinvent the wheel\""
   ]
  },
  {
   "cell_type": "code",
   "execution_count": 64,
   "metadata": {},
   "outputs": [],
   "source": [
    "# ovo su skripte u kojima se nalazi implementacija mreže i dohvaćanja podataka\n",
    "# napominjem opet, samo 20% koda je napisano s moje strane\n",
    "import mnist_loader\n",
    "import network"
   ]
  },
  {
   "cell_type": "code",
   "execution_count": 65,
   "metadata": {},
   "outputs": [
    {
     "name": "stdout",
     "output_type": "stream",
     "text": [
      "Epoch 0: 8149 / 10000\n",
      "Epoch 1: 9227 / 10000\n",
      "Epoch 2: 9275 / 10000\n",
      "Epoch 3: 9316 / 10000\n",
      "Epoch 4: 9374 / 10000\n",
      "Epoch 5: 9388 / 10000\n",
      "Epoch 6: 9328 / 10000\n",
      "Epoch 7: 9432 / 10000\n",
      "Epoch 8: 9376 / 10000\n",
      "Epoch 9: 9441 / 10000\n",
      "Epoch 10: 9408 / 10000\n",
      "Epoch 11: 9402 / 10000\n",
      "Epoch 12: 9432 / 10000\n",
      "Epoch 13: 9429 / 10000\n",
      "Epoch 14: 9485 / 10000\n",
      "Epoch 15: 9444 / 10000\n",
      "Epoch 16: 9445 / 10000\n",
      "Epoch 17: 9473 / 10000\n",
      "Epoch 18: 9444 / 10000\n",
      "Epoch 19: 9457 / 10000\n",
      "Epoch 20: 9484 / 10000\n",
      "Epoch 21: 9438 / 10000\n",
      "Epoch 22: 9464 / 10000\n",
      "Epoch 23: 9475 / 10000\n",
      "Epoch 24: 9486 / 10000\n",
      "Epoch 25: 9485 / 10000\n",
      "Epoch 26: 9463 / 10000\n",
      "Epoch 27: 9481 / 10000\n",
      "Epoch 28: 9467 / 10000\n",
      "Epoch 29: 9481 / 10000\n"
     ]
    }
   ],
   "source": [
    "trening, validacija, test = mnist_loader.load_data_wrapper()\n",
    "net = network.Network([784, 30, 10])\n",
    "net.SGD(trening, 30, 10, 3.0, test_data = test)"
   ]
  },
  {
   "cell_type": "markdown",
   "metadata": {},
   "source": [
    "Vidimo da smo postigli iznimno visoku preciznost(94.81%) već na najjednostavnijem modelu neuralne mreže. Daljnjim razviljanjem se može doći i blizu rekordne preciznsoti od samo 37 grešaka od 10000 primjera. Više o tome na linku http://neuralnetworksanddeeplearning.com/chap1.html .\n",
    "Prije sam spomenuo pojam dubokog učenja. To je zapravo model neuralnih mreža koje imaju više od jednog skrivenog sloja. Pokazano je u praksi da se najveće preciznosti dobivaju tim modelom. Upravo ta moć modela da odvoji bitne značajke i gradi više slojeve apstrakcije je razlog zašto mnogi smatraju da su duboke neuralne mreže put prema pravoj umjetnoj inteligenciji."
   ]
  }
 ],
 "metadata": {
  "kernelspec": {
   "display_name": "Python 3",
   "language": "python",
   "name": "python3"
  },
  "language_info": {
   "codemirror_mode": {
    "name": "ipython",
    "version": 3
   },
   "file_extension": ".py",
   "mimetype": "text/x-python",
   "name": "python",
   "nbconvert_exporter": "python",
   "pygments_lexer": "ipython3",
   "version": "3.6.4"
  }
 },
 "nbformat": 4,
 "nbformat_minor": 2
}
